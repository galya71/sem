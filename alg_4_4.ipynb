{
  "nbformat": 4,
  "nbformat_minor": 0,
  "metadata": {
    "colab": {
      "name": "alg_4_4.ipynb",
      "provenance": [],
      "collapsed_sections": [],
      "authorship_tag": "ABX9TyMsPzKTLlYqvH6JIoNpwHiv"
    },
    "kernelspec": {
      "name": "python3",
      "display_name": "Python 3"
    },
    "language_info": {
      "name": "python"
    }
  },
  "cells": [
    {
      "cell_type": "code",
      "execution_count": 2,
      "metadata": {
        "colab": {
          "base_uri": "https://localhost:8080/"
        },
        "id": "rfnBPpzVSSke",
        "outputId": "d0355764-faf2-4083-8283-c1457eb5882a"
      },
      "outputs": [
        {
          "output_type": "stream",
          "name": "stdout",
          "text": [
            "[1, 5, 2, 9, 8, 3, 6, 4, 7]\n",
            "[1, 5, 2, 7, 8, 3, 6, 4, 9]\n",
            "[1, 5, 2, 3, 8, 7, 6, 4, 9]\n",
            "[1, 3, 2, 5, 8, 7, 6, 4, 9]\n",
            "[1, 3, 2, 5, 6, 7, 8, 4, 9]\n",
            "[1, 3, 2, 5, 6, 4, 8, 7, 9]\n",
            "[1, 3, 2, 4, 6, 5, 8, 7, 9]\n",
            "[1, 2, 3, 4, 6, 5, 8, 7, 9]\n",
            "[1, 2, 3, 4, 5, 6, 8, 7, 9]\n",
            "[1, 2, 3, 4, 5, 6, 7, 8, 9]\n",
            "(20, 13)\n",
            "Отсортированный массив:\n",
            "[1, 2, 3, 4, 5, 6, 7, 8, 9]\n"
          ]
        }
      ],
      "source": [
        "def shell_sort(array):\n",
        "    pre = 0\n",
        "    eq = 0\n",
        "    last_index = len(array) - 1\n",
        "    step = 5\n",
        "    while step > 0:\n",
        "        eq += 1\n",
        "        for i in range(step, last_index + 1, 1):\n",
        "            j = i\n",
        "            delta = j - step\n",
        "            while delta >= 0 and array[delta] > array[j]:\n",
        "                eq += 1\n",
        "                array[delta], array[j] = array[j], array[delta]\n",
        "                pre += 2\n",
        "                j = delta\n",
        "                delta = j - step\n",
        "                print(array)\n",
        "        step //= 2\n",
        "    return pre, eq\n",
        "\n",
        "arr = [3, 5, 2, 9, 8, 1, 6, 4, 7]\n",
        "print(shell_sort(arr))\n",
        "print (\"Отсортированный массив:\")\n",
        "print(arr)"
      ]
    }
  ]
}