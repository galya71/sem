{
  "nbformat": 4,
  "nbformat_minor": 0,
  "metadata": {
    "colab": {
      "name": "alg_4_1.ipynb",
      "provenance": [],
      "authorship_tag": "ABX9TyMI6I133yyhu9ngu8dFtS0k",
      "include_colab_link": true
    },
    "kernelspec": {
      "name": "python3",
      "display_name": "Python 3"
    },
    "language_info": {
      "name": "python"
    }
  },
  "cells": [
    {
      "cell_type": "markdown",
      "metadata": {
        "id": "view-in-github",
        "colab_type": "text"
      },
      "source": [
        "<a href=\"https://colab.research.google.com/github/galya71/sem/blob/main/alg_4_1.ipynb\" target=\"_parent\"><img src=\"https://colab.research.google.com/assets/colab-badge.svg\" alt=\"Open In Colab\"/></a>"
      ]
    },
    {
      "cell_type": "code",
      "execution_count": 6,
      "metadata": {
        "colab": {
          "base_uri": "https://localhost:8080/"
        },
        "id": "FvSsu-blDVgV",
        "outputId": "d35a4ac9-bc77-4ea0-e4d8-6b33357479d4"
      },
      "outputs": [
        {
          "output_type": "stream",
          "name": "stdout",
          "text": [
            "[9, 15, 14, 13, 12, 11, 10, 16, 8, 7, 6, 5, 4, 3, 2, 1]\n",
            "[9, 8, 14, 13, 12, 11, 10, 16, 15, 7, 6, 5, 4, 3, 2, 1]\n",
            "[9, 8, 7, 13, 12, 11, 10, 16, 15, 14, 6, 5, 4, 3, 2, 1]\n",
            "[9, 8, 7, 6, 12, 11, 10, 16, 15, 14, 13, 5, 4, 3, 2, 1]\n",
            "[9, 8, 7, 6, 5, 11, 10, 16, 15, 14, 13, 12, 4, 3, 2, 1]\n",
            "[9, 8, 7, 6, 5, 4, 10, 16, 15, 14, 13, 12, 11, 3, 2, 1]\n",
            "[9, 8, 7, 6, 5, 4, 3, 16, 15, 14, 13, 12, 11, 10, 2, 1]\n",
            "[9, 8, 7, 6, 5, 4, 3, 2, 15, 14, 13, 12, 11, 10, 16, 1]\n",
            "[2, 8, 7, 6, 5, 4, 3, 9, 15, 14, 13, 12, 11, 10, 16, 1]\n",
            "[2, 8, 7, 6, 5, 4, 3, 9, 1, 14, 13, 12, 11, 10, 16, 15]\n",
            "[2, 1, 7, 6, 5, 4, 3, 9, 8, 14, 13, 12, 11, 10, 16, 15]\n",
            "[2, 1, 4, 6, 5, 7, 3, 9, 8, 14, 13, 12, 11, 10, 16, 15]\n",
            "[2, 1, 4, 3, 5, 7, 6, 9, 8, 14, 13, 12, 11, 10, 16, 15]\n",
            "[2, 1, 4, 3, 5, 7, 6, 9, 8, 11, 13, 12, 14, 10, 16, 15]\n",
            "[2, 1, 4, 3, 5, 7, 6, 9, 8, 11, 10, 12, 14, 13, 16, 15]\n",
            "[1, 2, 4, 3, 5, 7, 6, 9, 8, 11, 10, 12, 14, 13, 16, 15]\n",
            "[1, 2, 3, 4, 5, 7, 6, 9, 8, 11, 10, 12, 14, 13, 16, 15]\n",
            "[1, 2, 3, 4, 5, 6, 7, 9, 8, 11, 10, 12, 14, 13, 16, 15]\n",
            "[1, 2, 3, 4, 5, 6, 7, 8, 9, 11, 10, 12, 14, 13, 16, 15]\n",
            "[1, 2, 3, 4, 5, 6, 7, 8, 9, 10, 11, 12, 14, 13, 16, 15]\n",
            "[1, 2, 3, 4, 5, 6, 7, 8, 9, 10, 11, 12, 13, 14, 16, 15]\n",
            "[1, 2, 3, 4, 5, 6, 7, 8, 9, 10, 11, 12, 13, 14, 15, 16]\n",
            "(44, 26)\n",
            "Отсортированный массив:\n",
            "[1, 2, 3, 4, 5, 6, 7, 8, 9, 10, 11, 12, 13, 14, 15, 16]\n"
          ]
        }
      ],
      "source": [
        "import math\n",
        "\n",
        "def shell_sort(array):\n",
        "    pre = 0\n",
        "    eq = 0\n",
        "    last_index = len(array) - 1\n",
        "    step = 7\n",
        "    while step > 0:\n",
        "        eq += 1\n",
        "        for i in range(step, last_index + 1, 1):\n",
        "            j = i\n",
        "            delta = j - step\n",
        "            while delta >= 0 and array[delta] > array[j]:\n",
        "                eq += 1\n",
        "                array[delta], array[j] = array[j], array[delta]\n",
        "                pre += 2\n",
        "                j = delta\n",
        "                delta = j - step\n",
        "                print(array)\n",
        "        step -= 2\n",
        "    return pre, eq\n",
        "\n",
        "arr = [16, 15, 14, 13, 12, 11, 10, 9, 8, 7, 6, 5, 4, 3, 2, 1]\n",
        "print(shell_sort(arr))\n",
        "print (\"Отсортированный массив:\")\n",
        "print(arr)"
      ]
    }
  ]
}